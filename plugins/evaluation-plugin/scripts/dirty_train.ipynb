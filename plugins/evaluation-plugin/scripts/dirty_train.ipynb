{
 "cells": [
  {
   "cell_type": "code",
   "execution_count": 9,
   "id": "32e5ef1c",
   "metadata": {},
   "outputs": [
    {
     "name": "stdout",
     "output_type": "stream",
     "text": [
      "The autoreload extension is already loaded. To reload it, use:\n",
      "  %reload_ext autoreload\n"
     ]
    }
   ],
   "source": [
    "import utils\n",
    "%load_ext autoreload\n",
    "%autoreload 2"
   ]
  },
  {
   "cell_type": "code",
   "execution_count": 4,
   "id": "79a6ed47",
   "metadata": {},
   "outputs": [],
   "source": [
    "paths = [\n",
    "    \"/Users/ifled/projects/csc/ide_perf_practice/detekt/completion-evaluation/2022-05-18_16-07-33\",\n",
    "    \"/Users/ifled/projects/csc/ide_perf_practice/detekt/completion-evaluation/2022-05-02_16-55-43\"\n",
    "]"
   ]
  },
  {
   "cell_type": "code",
   "execution_count": 5,
   "id": "0167eacc",
   "metadata": {},
   "outputs": [
    {
     "name": "stderr",
     "output_type": "stream",
     "text": [
      "Read 100 feats\n",
      "Read 200 feats\n",
      "Read 300 feats\n",
      "Read 400 feats\n",
      "Read 500 feats\n",
      "Read 600 feats\n",
      "Read 700 feats\n",
      "Read 800 feats\n",
      "Read 900 feats\n",
      "Read 1000 feats\n",
      "Read 1100 feats\n",
      "Read 1200 feats\n",
      "Read 1300 feats\n",
      "Read 1400 feats\n",
      "Read 1500 feats\n",
      "Read 1600 feats\n",
      "Read 1700 feats\n",
      "Read 1800 feats\n",
      "Read 1900 feats\n",
      "Read 2000 feats\n",
      "Read 2100 feats\n",
      "Read 2200 feats\n",
      "Read 2300 feats\n",
      "Read 2400 feats\n",
      "Read 2500 feats\n",
      "Read 2600 feats\n",
      "Read 2700 feats\n",
      "Read 2800 feats\n",
      "Read 2900 feats\n",
      "Read 3000 feats\n",
      "Read 3100 feats\n",
      "Read 3200 feats\n",
      "Read 3300 feats\n",
      "Read 3400 feats\n",
      "Read 3500 feats\n",
      "Read 3563 feats\n"
     ]
    }
   ],
   "source": [
    "id2feats = utils.read_id2feats(paths)"
   ]
  },
  {
   "cell_type": "code",
   "execution_count": 6,
   "id": "6da68285",
   "metadata": {},
   "outputs": [
    {
     "name": "stderr",
     "output_type": "stream",
     "text": [
      "Read 100 sessions\n",
      "Read 200 sessions\n",
      "Read 300 sessions\n",
      "Read 400 sessions\n",
      "Read 500 sessions\n",
      "Read 600 sessions\n",
      "Read 700 sessions\n",
      "Read 800 sessions\n",
      "Read 900 sessions\n",
      "Read 1000 sessions\n",
      "Read 1100 sessions\n",
      "Read 1200 sessions\n",
      "Read 1300 sessions\n",
      "Read 1400 sessions\n",
      "Read 1500 sessions\n",
      "Read 1600 sessions\n",
      "Read 1700 sessions\n",
      "Read 1800 sessions\n",
      "Read 1900 sessions\n",
      "Read 2000 sessions\n",
      "Read 2100 sessions\n",
      "Read 2200 sessions\n",
      "Read 2300 sessions\n",
      "Read 2400 sessions\n",
      "Read 2500 sessions\n",
      "Read 2600 sessions\n",
      "Read 2700 sessions\n",
      "Read 2800 sessions\n",
      "Read 2900 sessions\n",
      "Read 3000 sessions\n",
      "Read 3100 sessions\n",
      "Read 3200 sessions\n",
      "Read 3300 sessions\n",
      "Read 3400 sessions\n",
      "Read 3500 sessions\n",
      "Read 3570 sessions\n"
     ]
    }
   ],
   "source": [
    "id2session, id2fname = utils.read_sessions(paths)"
   ]
  },
  {
   "cell_type": "code",
   "execution_count": 21,
   "id": "ce764a33",
   "metadata": {
    "scrolled": false
   },
   "outputs": [],
   "source": [
    "xs, ys = utils.make_xy(id2feats, id2session)"
   ]
  },
  {
   "cell_type": "code",
   "execution_count": 22,
   "id": "16d53879",
   "metadata": {},
   "outputs": [
    {
     "data": {
      "text/plain": [
       "3224"
      ]
     },
     "execution_count": 22,
     "metadata": {},
     "output_type": "execute_result"
    }
   ],
   "source": [
    "len(xs)"
   ]
  },
  {
   "cell_type": "code",
   "execution_count": 23,
   "id": "651b5045",
   "metadata": {},
   "outputs": [
    {
     "data": {
      "text/plain": [
       "3224"
      ]
     },
     "execution_count": 23,
     "metadata": {},
     "output_type": "execute_result"
    }
   ],
   "source": [
    "len(ys)"
   ]
  },
  {
   "cell_type": "code",
   "execution_count": 121,
   "id": "b165feb6",
   "metadata": {},
   "outputs": [
    {
     "name": "stdout",
     "output_type": "stream",
     "text": [
      "CPU times: user 19.5 ms, sys: 1.54 ms, total: 21.1 ms\n",
      "Wall time: 20.8 ms\n"
     ]
    }
   ],
   "source": [
    "%%time\n",
    "\n",
    "data, labels = utils.make_data(xs, ys)"
   ]
  },
  {
   "cell_type": "code",
   "execution_count": 122,
   "id": "3d57b089",
   "metadata": {},
   "outputs": [
    {
     "data": {
      "text/plain": [
       "((3022, 10), (3022, 1))"
      ]
     },
     "execution_count": 122,
     "metadata": {},
     "output_type": "execute_result"
    }
   ],
   "source": [
    "data.shape, labels.shape"
   ]
  },
  {
   "cell_type": "code",
   "execution_count": 123,
   "id": "8ae72bbb",
   "metadata": {},
   "outputs": [
    {
     "data": {
      "text/html": [
       "<div>\n",
       "<style scoped>\n",
       "    .dataframe tbody tr th:only-of-type {\n",
       "        vertical-align: middle;\n",
       "    }\n",
       "\n",
       "    .dataframe tbody tr th {\n",
       "        vertical-align: top;\n",
       "    }\n",
       "\n",
       "    .dataframe thead th {\n",
       "        text-align: right;\n",
       "    }\n",
       "</style>\n",
       "<table border=\"1\" class=\"dataframe\">\n",
       "  <thead>\n",
       "    <tr style=\"text-align: right;\">\n",
       "      <th></th>\n",
       "      <th>ml_ctx_kotlin_file_type</th>\n",
       "      <th>ml_ctx_common_is_in_line_beginning</th>\n",
       "      <th>ml_ctx_common_case_sensitivity</th>\n",
       "      <th>ml_ctx_common_is_after_dot</th>\n",
       "      <th>ml_ctx_common_parent_1</th>\n",
       "      <th>ml_ctx_common_parent_2</th>\n",
       "      <th>ml_ctx_common_parent_3</th>\n",
       "      <th>ml_ctx_common_line_num</th>\n",
       "      <th>ml_ctx_common_col_num</th>\n",
       "      <th>ml_ctx_common_indent_level</th>\n",
       "    </tr>\n",
       "    <tr>\n",
       "      <th>ml_ctx_cce_sessionUid</th>\n",
       "      <th></th>\n",
       "      <th></th>\n",
       "      <th></th>\n",
       "      <th></th>\n",
       "      <th></th>\n",
       "      <th></th>\n",
       "      <th></th>\n",
       "      <th></th>\n",
       "      <th></th>\n",
       "      <th></th>\n",
       "    </tr>\n",
       "  </thead>\n",
       "  <tbody>\n",
       "    <tr>\n",
       "      <th>3b6adb85-a76d-469d-82b1-6c54fd9ef373</th>\n",
       "      <td>KT</td>\n",
       "      <td>0</td>\n",
       "      <td>FIRST_LETTER</td>\n",
       "      <td>1</td>\n",
       "      <td>KtDotQualifiedExpression</td>\n",
       "      <td>KtProperty</td>\n",
       "      <td>KtBlockExpression</td>\n",
       "      <td>26.0</td>\n",
       "      <td>40.0</td>\n",
       "      <td>2.0</td>\n",
       "    </tr>\n",
       "    <tr>\n",
       "      <th>0aa5cd60-0142-4d11-8b8f-c2e508eb3613</th>\n",
       "      <td>KT</td>\n",
       "      <td>0</td>\n",
       "      <td>FIRST_LETTER</td>\n",
       "      <td>0</td>\n",
       "      <td>KtContainerNode</td>\n",
       "      <td>KtIfExpression</td>\n",
       "      <td>KtBlockExpression</td>\n",
       "      <td>27.0</td>\n",
       "      <td>13.0</td>\n",
       "      <td>2.0</td>\n",
       "    </tr>\n",
       "    <tr>\n",
       "      <th>178b3f9f-5ca1-4349-9e94-88df79083635</th>\n",
       "      <td>KT</td>\n",
       "      <td>0</td>\n",
       "      <td>FIRST_LETTER</td>\n",
       "      <td>0</td>\n",
       "      <td>KtBlockExpression</td>\n",
       "      <td>KtContainerNodeForControlStructureBody</td>\n",
       "      <td>KtIfExpression</td>\n",
       "      <td>28.0</td>\n",
       "      <td>13.0</td>\n",
       "      <td>3.0</td>\n",
       "    </tr>\n",
       "    <tr>\n",
       "      <th>882310c1-90a8-4329-bcde-c684a8012e2d</th>\n",
       "      <td>KT</td>\n",
       "      <td>0</td>\n",
       "      <td>FIRST_LETTER</td>\n",
       "      <td>0</td>\n",
       "      <td>KtProperty</td>\n",
       "      <td>KtClassBody</td>\n",
       "      <td>KtClass</td>\n",
       "      <td>17.0</td>\n",
       "      <td>51.0</td>\n",
       "      <td>1.0</td>\n",
       "    </tr>\n",
       "    <tr>\n",
       "      <th>6c5510db-79c7-442c-97eb-d97852c3daf5</th>\n",
       "      <td>KT</td>\n",
       "      <td>0</td>\n",
       "      <td>FIRST_LETTER</td>\n",
       "      <td>0</td>\n",
       "      <td>KtBlockExpression</td>\n",
       "      <td>KtNamedFunction</td>\n",
       "      <td>KtClassBody</td>\n",
       "      <td>26.0</td>\n",
       "      <td>9.0</td>\n",
       "      <td>2.0</td>\n",
       "    </tr>\n",
       "  </tbody>\n",
       "</table>\n",
       "</div>"
      ],
      "text/plain": [
       "                                     ml_ctx_kotlin_file_type ml_ctx_common_is_in_line_beginning  ... ml_ctx_common_col_num ml_ctx_common_indent_level\n",
       "ml_ctx_cce_sessionUid                                                                            ...                                                 \n",
       "3b6adb85-a76d-469d-82b1-6c54fd9ef373                      KT                                  0  ...                  40.0                        2.0\n",
       "0aa5cd60-0142-4d11-8b8f-c2e508eb3613                      KT                                  0  ...                  13.0                        2.0\n",
       "178b3f9f-5ca1-4349-9e94-88df79083635                      KT                                  0  ...                  13.0                        3.0\n",
       "882310c1-90a8-4329-bcde-c684a8012e2d                      KT                                  0  ...                  51.0                        1.0\n",
       "6c5510db-79c7-442c-97eb-d97852c3daf5                      KT                                  0  ...                   9.0                        2.0\n",
       "\n",
       "[5 rows x 10 columns]"
      ]
     },
     "execution_count": 123,
     "metadata": {},
     "output_type": "execute_result"
    }
   ],
   "source": [
    "df.head()"
   ]
  },
  {
   "cell_type": "code",
   "execution_count": 124,
   "id": "36cb1578",
   "metadata": {},
   "outputs": [
    {
     "data": {
      "text/plain": [
       "68"
      ]
     },
     "execution_count": 124,
     "metadata": {},
     "output_type": "execute_result"
    }
   ],
   "source": [
    "len({fname for id, fname in id2fname.items()})"
   ]
  },
  {
   "cell_type": "code",
   "execution_count": 125,
   "id": "6bf8c2b3",
   "metadata": {},
   "outputs": [
    {
     "data": {
      "text/html": [
       "<div>\n",
       "<style scoped>\n",
       "    .dataframe tbody tr th:only-of-type {\n",
       "        vertical-align: middle;\n",
       "    }\n",
       "\n",
       "    .dataframe tbody tr th {\n",
       "        vertical-align: top;\n",
       "    }\n",
       "\n",
       "    .dataframe thead th {\n",
       "        text-align: right;\n",
       "    }\n",
       "</style>\n",
       "<table border=\"1\" class=\"dataframe\">\n",
       "  <thead>\n",
       "    <tr style=\"text-align: right;\">\n",
       "      <th></th>\n",
       "      <th>target</th>\n",
       "    </tr>\n",
       "    <tr>\n",
       "      <th>session_id</th>\n",
       "      <th></th>\n",
       "    </tr>\n",
       "  </thead>\n",
       "  <tbody>\n",
       "    <tr>\n",
       "      <th>3b6adb85-a76d-469d-82b1-6c54fd9ef373</th>\n",
       "      <td>('KotlinCompletionContributor', 'kinds-descrip...</td>\n",
       "    </tr>\n",
       "    <tr>\n",
       "      <th>0aa5cd60-0142-4d11-8b8f-c2e508eb3613</th>\n",
       "      <td>('KotlinCompletionContributor', 'kinds-descrip...</td>\n",
       "    </tr>\n",
       "    <tr>\n",
       "      <th>178b3f9f-5ca1-4349-9e94-88df79083635</th>\n",
       "      <td>('KotlinCompletionContributor', 'kinds-descrip...</td>\n",
       "    </tr>\n",
       "    <tr>\n",
       "      <th>882310c1-90a8-4329-bcde-c684a8012e2d</th>\n",
       "      <td>('KotlinCompletionContributor', 'kinds-descrip...</td>\n",
       "    </tr>\n",
       "    <tr>\n",
       "      <th>6c5510db-79c7-442c-97eb-d97852c3daf5</th>\n",
       "      <td>('KotlinCompletionContributor', 'kind-BasicCom...</td>\n",
       "    </tr>\n",
       "  </tbody>\n",
       "</table>\n",
       "</div>"
      ],
      "text/plain": [
       "                                                                                 target\n",
       "session_id                                                                             \n",
       "3b6adb85-a76d-469d-82b1-6c54fd9ef373  ('KotlinCompletionContributor', 'kinds-descrip...\n",
       "0aa5cd60-0142-4d11-8b8f-c2e508eb3613  ('KotlinCompletionContributor', 'kinds-descrip...\n",
       "178b3f9f-5ca1-4349-9e94-88df79083635  ('KotlinCompletionContributor', 'kinds-descrip...\n",
       "882310c1-90a8-4329-bcde-c684a8012e2d  ('KotlinCompletionContributor', 'kinds-descrip...\n",
       "6c5510db-79c7-442c-97eb-d97852c3daf5  ('KotlinCompletionContributor', 'kind-BasicCom..."
      ]
     },
     "execution_count": 125,
     "metadata": {},
     "output_type": "execute_result"
    }
   ],
   "source": [
    "labels.head()"
   ]
  },
  {
   "cell_type": "code",
   "execution_count": 126,
   "id": "128ee953",
   "metadata": {},
   "outputs": [],
   "source": [
    "train, dev, test = utils.split(data, labels, id2fname, seed=12345)"
   ]
  },
  {
   "cell_type": "code",
   "execution_count": 127,
   "id": "87228b7f",
   "metadata": {},
   "outputs": [
    {
     "data": {
      "text/plain": [
       "((1835, 10), (1835, 1))"
      ]
     },
     "execution_count": 127,
     "metadata": {},
     "output_type": "execute_result"
    }
   ],
   "source": [
    "train[0].shape, train[1].shape"
   ]
  },
  {
   "cell_type": "code",
   "execution_count": 128,
   "id": "e06dc8ae",
   "metadata": {},
   "outputs": [
    {
     "data": {
      "text/plain": [
       "((639, 10), (639, 1))"
      ]
     },
     "execution_count": 128,
     "metadata": {},
     "output_type": "execute_result"
    }
   ],
   "source": [
    "dev[0].shape, dev[1].shape"
   ]
  },
  {
   "cell_type": "code",
   "execution_count": 129,
   "id": "2237d516",
   "metadata": {},
   "outputs": [
    {
     "data": {
      "text/plain": [
       "((548, 10), (548, 1))"
      ]
     },
     "execution_count": 129,
     "metadata": {},
     "output_type": "execute_result"
    }
   ],
   "source": [
    "test[0].shape, test[1].shape"
   ]
  },
  {
   "cell_type": "code",
   "execution_count": 130,
   "id": "1a7d0781",
   "metadata": {},
   "outputs": [
    {
     "data": {
      "text/html": [
       "<div>\n",
       "<style scoped>\n",
       "    .dataframe tbody tr th:only-of-type {\n",
       "        vertical-align: middle;\n",
       "    }\n",
       "\n",
       "    .dataframe tbody tr th {\n",
       "        vertical-align: top;\n",
       "    }\n",
       "\n",
       "    .dataframe thead th {\n",
       "        text-align: right;\n",
       "    }\n",
       "</style>\n",
       "<table border=\"1\" class=\"dataframe\">\n",
       "  <thead>\n",
       "    <tr style=\"text-align: right;\">\n",
       "      <th></th>\n",
       "      <th>ml_ctx_kotlin_file_type</th>\n",
       "      <th>ml_ctx_common_is_in_line_beginning</th>\n",
       "      <th>ml_ctx_common_case_sensitivity</th>\n",
       "      <th>ml_ctx_common_is_after_dot</th>\n",
       "      <th>ml_ctx_common_parent_1</th>\n",
       "      <th>ml_ctx_common_parent_2</th>\n",
       "      <th>ml_ctx_common_parent_3</th>\n",
       "      <th>ml_ctx_common_line_num</th>\n",
       "      <th>ml_ctx_common_col_num</th>\n",
       "      <th>ml_ctx_common_indent_level</th>\n",
       "    </tr>\n",
       "    <tr>\n",
       "      <th>ml_ctx_cce_sessionUid</th>\n",
       "      <th></th>\n",
       "      <th></th>\n",
       "      <th></th>\n",
       "      <th></th>\n",
       "      <th></th>\n",
       "      <th></th>\n",
       "      <th></th>\n",
       "      <th></th>\n",
       "      <th></th>\n",
       "      <th></th>\n",
       "    </tr>\n",
       "  </thead>\n",
       "  <tbody>\n",
       "    <tr>\n",
       "      <th>35d285fd-fd80-4662-9569-5f6afb4b4927</th>\n",
       "      <td>KT</td>\n",
       "      <td>0</td>\n",
       "      <td>FIRST_LETTER</td>\n",
       "      <td>0</td>\n",
       "      <td>KtParameter</td>\n",
       "      <td>KtParameterList</td>\n",
       "      <td>KtPrimaryConstructor</td>\n",
       "      <td>17.0</td>\n",
       "      <td>45.0</td>\n",
       "      <td>1.0</td>\n",
       "    </tr>\n",
       "    <tr>\n",
       "      <th>7c5c956a-e8e8-4e39-9e5a-9bf4b3a885d6</th>\n",
       "      <td>KT</td>\n",
       "      <td>0</td>\n",
       "      <td>FIRST_LETTER</td>\n",
       "      <td>0</td>\n",
       "      <td>KtValueArgument</td>\n",
       "      <td>KtValueArgumentList</td>\n",
       "      <td>KtCallExpression</td>\n",
       "      <td>15.0</td>\n",
       "      <td>43.0</td>\n",
       "      <td>2.0</td>\n",
       "    </tr>\n",
       "    <tr>\n",
       "      <th>244842ca-d590-4131-b519-850357903fb9</th>\n",
       "      <td>KT</td>\n",
       "      <td>0</td>\n",
       "      <td>FIRST_LETTER</td>\n",
       "      <td>0</td>\n",
       "      <td>KtValueArgument</td>\n",
       "      <td>KtValueArgumentList</td>\n",
       "      <td>KtConstructorDelegationCall</td>\n",
       "      <td>25.0</td>\n",
       "      <td>9.0</td>\n",
       "      <td>2.0</td>\n",
       "    </tr>\n",
       "    <tr>\n",
       "      <th>0a6378e0-3f87-4056-a208-9545efa7ea80</th>\n",
       "      <td>KT</td>\n",
       "      <td>0</td>\n",
       "      <td>FIRST_LETTER</td>\n",
       "      <td>0</td>\n",
       "      <td>KtClassBody</td>\n",
       "      <td>KtClass</td>\n",
       "      <td>KtFile</td>\n",
       "      <td>9.0</td>\n",
       "      <td>14.0</td>\n",
       "      <td>1.0</td>\n",
       "    </tr>\n",
       "    <tr>\n",
       "      <th>4d8187ce-8fb4-4a4a-b080-04b5a15ad00a</th>\n",
       "      <td>KT</td>\n",
       "      <td>0</td>\n",
       "      <td>FIRST_LETTER</td>\n",
       "      <td>0</td>\n",
       "      <td>KtBlockExpression</td>\n",
       "      <td>KtFunctionLiteral</td>\n",
       "      <td>KtLambdaExpression</td>\n",
       "      <td>46.0</td>\n",
       "      <td>41.0</td>\n",
       "      <td>3.0</td>\n",
       "    </tr>\n",
       "    <tr>\n",
       "      <th>...</th>\n",
       "      <td>...</td>\n",
       "      <td>...</td>\n",
       "      <td>...</td>\n",
       "      <td>...</td>\n",
       "      <td>...</td>\n",
       "      <td>...</td>\n",
       "      <td>...</td>\n",
       "      <td>...</td>\n",
       "      <td>...</td>\n",
       "      <td>...</td>\n",
       "    </tr>\n",
       "    <tr>\n",
       "      <th>f4d88fa7-d240-40b3-9c08-4ba670a2062c</th>\n",
       "      <td>KT</td>\n",
       "      <td>0</td>\n",
       "      <td>FIRST_LETTER</td>\n",
       "      <td>1</td>\n",
       "      <td>KtDotQualifiedExpression</td>\n",
       "      <td>KtBlockExpression</td>\n",
       "      <td>KtFunctionLiteral</td>\n",
       "      <td>89.0</td>\n",
       "      <td>25.0</td>\n",
       "      <td>2.0</td>\n",
       "    </tr>\n",
       "    <tr>\n",
       "      <th>2f119822-0548-46bb-a88d-4a868d29512f</th>\n",
       "      <td>KT</td>\n",
       "      <td>0</td>\n",
       "      <td>FIRST_LETTER</td>\n",
       "      <td>0</td>\n",
       "      <td>KtUserType</td>\n",
       "      <td>KtTypeReference</td>\n",
       "      <td>KtSuperTypeEntry</td>\n",
       "      <td>7.0</td>\n",
       "      <td>83.0</td>\n",
       "      <td>0.0</td>\n",
       "    </tr>\n",
       "    <tr>\n",
       "      <th>40c712cb-fd5e-4461-9997-e3292116957d</th>\n",
       "      <td>KT</td>\n",
       "      <td>0</td>\n",
       "      <td>FIRST_LETTER</td>\n",
       "      <td>1</td>\n",
       "      <td>KtDotQualifiedExpression</td>\n",
       "      <td>KtValueArgument</td>\n",
       "      <td>KtValueArgumentList</td>\n",
       "      <td>5.0</td>\n",
       "      <td>26.0</td>\n",
       "      <td>0.0</td>\n",
       "    </tr>\n",
       "    <tr>\n",
       "      <th>6123acd9-292a-4719-ab30-2e6cacb4efd3</th>\n",
       "      <td>KT</td>\n",
       "      <td>0</td>\n",
       "      <td>FIRST_LETTER</td>\n",
       "      <td>0</td>\n",
       "      <td>KtReturnExpression</td>\n",
       "      <td>KtBlockExpression</td>\n",
       "      <td>KtContainerNodeForControlStructureBody</td>\n",
       "      <td>42.0</td>\n",
       "      <td>24.0</td>\n",
       "      <td>4.0</td>\n",
       "    </tr>\n",
       "    <tr>\n",
       "      <th>f14dc26e-6887-495f-85ed-a311389ba799</th>\n",
       "      <td>KT</td>\n",
       "      <td>0</td>\n",
       "      <td>FIRST_LETTER</td>\n",
       "      <td>0</td>\n",
       "      <td>KtUserType</td>\n",
       "      <td>KtTypeReference</td>\n",
       "      <td>KtNamedFunction</td>\n",
       "      <td>33.0</td>\n",
       "      <td>20.0</td>\n",
       "      <td>1.0</td>\n",
       "    </tr>\n",
       "  </tbody>\n",
       "</table>\n",
       "<p>1835 rows × 10 columns</p>\n",
       "</div>"
      ],
      "text/plain": [
       "                                     ml_ctx_kotlin_file_type ml_ctx_common_is_in_line_beginning  ... ml_ctx_common_col_num ml_ctx_common_indent_level\n",
       "ml_ctx_cce_sessionUid                                                                            ...                                                 \n",
       "35d285fd-fd80-4662-9569-5f6afb4b4927                      KT                                  0  ...                  45.0                        1.0\n",
       "7c5c956a-e8e8-4e39-9e5a-9bf4b3a885d6                      KT                                  0  ...                  43.0                        2.0\n",
       "244842ca-d590-4131-b519-850357903fb9                      KT                                  0  ...                   9.0                        2.0\n",
       "0a6378e0-3f87-4056-a208-9545efa7ea80                      KT                                  0  ...                  14.0                        1.0\n",
       "4d8187ce-8fb4-4a4a-b080-04b5a15ad00a                      KT                                  0  ...                  41.0                        3.0\n",
       "...                                                      ...                                ...  ...                   ...                        ...\n",
       "f4d88fa7-d240-40b3-9c08-4ba670a2062c                      KT                                  0  ...                  25.0                        2.0\n",
       "2f119822-0548-46bb-a88d-4a868d29512f                      KT                                  0  ...                  83.0                        0.0\n",
       "40c712cb-fd5e-4461-9997-e3292116957d                      KT                                  0  ...                  26.0                        0.0\n",
       "6123acd9-292a-4719-ab30-2e6cacb4efd3                      KT                                  0  ...                  24.0                        4.0\n",
       "f14dc26e-6887-495f-85ed-a311389ba799                      KT                                  0  ...                  20.0                        1.0\n",
       "\n",
       "[1835 rows x 10 columns]"
      ]
     },
     "execution_count": 130,
     "metadata": {},
     "output_type": "execute_result"
    }
   ],
   "source": [
    "train[0]"
   ]
  },
  {
   "cell_type": "code",
   "execution_count": 131,
   "id": "010b1baf",
   "metadata": {},
   "outputs": [
    {
     "data": {
      "text/html": [
       "<div>\n",
       "<style scoped>\n",
       "    .dataframe tbody tr th:only-of-type {\n",
       "        vertical-align: middle;\n",
       "    }\n",
       "\n",
       "    .dataframe tbody tr th {\n",
       "        vertical-align: top;\n",
       "    }\n",
       "\n",
       "    .dataframe thead th {\n",
       "        text-align: right;\n",
       "    }\n",
       "</style>\n",
       "<table border=\"1\" class=\"dataframe\">\n",
       "  <thead>\n",
       "    <tr style=\"text-align: right;\">\n",
       "      <th></th>\n",
       "      <th>target</th>\n",
       "    </tr>\n",
       "    <tr>\n",
       "      <th>session_id</th>\n",
       "      <th></th>\n",
       "    </tr>\n",
       "  </thead>\n",
       "  <tbody>\n",
       "    <tr>\n",
       "      <th>35d285fd-fd80-4662-9569-5f6afb4b4927</th>\n",
       "      <td>('KotlinCompletionContributor', 'kinds-descrip...</td>\n",
       "    </tr>\n",
       "    <tr>\n",
       "      <th>7c5c956a-e8e8-4e39-9e5a-9bf4b3a885d6</th>\n",
       "      <td>('KotlinCompletionContributor', 'kinds-descrip...</td>\n",
       "    </tr>\n",
       "    <tr>\n",
       "      <th>244842ca-d590-4131-b519-850357903fb9</th>\n",
       "      <td>('KotlinCompletionContributor', 'kinds-descrip...</td>\n",
       "    </tr>\n",
       "    <tr>\n",
       "      <th>0a6378e0-3f87-4056-a208-9545efa7ea80</th>\n",
       "      <td>('KotlinCompletionContributor', 'kind-BasicCom...</td>\n",
       "    </tr>\n",
       "    <tr>\n",
       "      <th>4d8187ce-8fb4-4a4a-b080-04b5a15ad00a</th>\n",
       "      <td>('KotlinCompletionContributor', 'kinds-descrip...</td>\n",
       "    </tr>\n",
       "    <tr>\n",
       "      <th>...</th>\n",
       "      <td>...</td>\n",
       "    </tr>\n",
       "    <tr>\n",
       "      <th>f4d88fa7-d240-40b3-9c08-4ba670a2062c</th>\n",
       "      <td>('KotlinCompletionContributor', 'kinds-descrip...</td>\n",
       "    </tr>\n",
       "    <tr>\n",
       "      <th>2f119822-0548-46bb-a88d-4a868d29512f</th>\n",
       "      <td>('KotlinCompletionContributor', 'kinds-descrip...</td>\n",
       "    </tr>\n",
       "    <tr>\n",
       "      <th>40c712cb-fd5e-4461-9997-e3292116957d</th>\n",
       "      <td>('KotlinCompletionContributor', 'kinds-descrip...</td>\n",
       "    </tr>\n",
       "    <tr>\n",
       "      <th>6123acd9-292a-4719-ab30-2e6cacb4efd3</th>\n",
       "      <td>('KotlinCompletionContributor', 'kind-BasicCom...</td>\n",
       "    </tr>\n",
       "    <tr>\n",
       "      <th>f14dc26e-6887-495f-85ed-a311389ba799</th>\n",
       "      <td>('KotlinCompletionContributor', 'kinds-descrip...</td>\n",
       "    </tr>\n",
       "  </tbody>\n",
       "</table>\n",
       "<p>1835 rows × 1 columns</p>\n",
       "</div>"
      ],
      "text/plain": [
       "                                                                                 target\n",
       "session_id                                                                             \n",
       "35d285fd-fd80-4662-9569-5f6afb4b4927  ('KotlinCompletionContributor', 'kinds-descrip...\n",
       "7c5c956a-e8e8-4e39-9e5a-9bf4b3a885d6  ('KotlinCompletionContributor', 'kinds-descrip...\n",
       "244842ca-d590-4131-b519-850357903fb9  ('KotlinCompletionContributor', 'kinds-descrip...\n",
       "0a6378e0-3f87-4056-a208-9545efa7ea80  ('KotlinCompletionContributor', 'kind-BasicCom...\n",
       "4d8187ce-8fb4-4a4a-b080-04b5a15ad00a  ('KotlinCompletionContributor', 'kinds-descrip...\n",
       "...                                                                                 ...\n",
       "f4d88fa7-d240-40b3-9c08-4ba670a2062c  ('KotlinCompletionContributor', 'kinds-descrip...\n",
       "2f119822-0548-46bb-a88d-4a868d29512f  ('KotlinCompletionContributor', 'kinds-descrip...\n",
       "40c712cb-fd5e-4461-9997-e3292116957d  ('KotlinCompletionContributor', 'kinds-descrip...\n",
       "6123acd9-292a-4719-ab30-2e6cacb4efd3  ('KotlinCompletionContributor', 'kind-BasicCom...\n",
       "f14dc26e-6887-495f-85ed-a311389ba799  ('KotlinCompletionContributor', 'kinds-descrip...\n",
       "\n",
       "[1835 rows x 1 columns]"
      ]
     },
     "execution_count": 131,
     "metadata": {},
     "output_type": "execute_result"
    }
   ],
   "source": [
    "train[1]"
   ]
  },
  {
   "cell_type": "code",
   "execution_count": null,
   "id": "b83d4808",
   "metadata": {},
   "outputs": [],
   "source": []
  },
  {
   "cell_type": "code",
   "execution_count": null,
   "id": "88e4a237",
   "metadata": {},
   "outputs": [],
   "source": []
  },
  {
   "cell_type": "code",
   "execution_count": 135,
   "id": "9dbecb57",
   "metadata": {},
   "outputs": [],
   "source": [
    "import catboost as cb"
   ]
  },
  {
   "cell_type": "code",
   "execution_count": 136,
   "id": "cab9eb65",
   "metadata": {},
   "outputs": [
    {
     "data": {
      "text/plain": [
       "Index(['ml_ctx_kotlin_file_type', 'ml_ctx_common_is_in_line_beginning',\n",
       "       'ml_ctx_common_case_sensitivity', 'ml_ctx_common_is_after_dot',\n",
       "       'ml_ctx_common_parent_1', 'ml_ctx_common_parent_2',\n",
       "       'ml_ctx_common_parent_3', 'ml_ctx_common_line_num',\n",
       "       'ml_ctx_common_col_num', 'ml_ctx_common_indent_level'],\n",
       "      dtype='object')"
      ]
     },
     "execution_count": 136,
     "metadata": {},
     "output_type": "execute_result"
    }
   ],
   "source": [
    "train[0].columns"
   ]
  },
  {
   "cell_type": "code",
   "execution_count": 240,
   "id": "ccd5efa5",
   "metadata": {},
   "outputs": [],
   "source": [
    "cat_features = list(range(7))\n",
    "train_dataset = cb.Pool(data=train[0],\n",
    "                       label=train[1],\n",
    "                       cat_features=cat_features)\n",
    "\n",
    "eval_dataset = cb.Pool(data=dev[0],\n",
    "                       label=dev[1],\n",
    "                       cat_features=cat_features)\n",
    "\n",
    "test_dataset = cb.Pool(data=test[0], label=test[1], cat_features=cat_features)\n",
    "\n",
    "# Initialize CatBoostClassifier\n",
    "model = cb.CatBoostClassifier(iterations=100,\n",
    "                              learning_rate=1,\n",
    "                              depth=2,\n",
    "                              loss_function='MultiClass')"
   ]
  },
  {
   "cell_type": "code",
   "execution_count": 241,
   "id": "fcc54888",
   "metadata": {},
   "outputs": [
    {
     "name": "stdout",
     "output_type": "stream",
     "text": [
      "0:\tlearn: 1.8031370\ttotal: 5.13ms\tremaining: 508ms\n",
      "1:\tlearn: 29.1617971\ttotal: 9.86ms\tremaining: 483ms\n",
      "2:\tlearn: 42.8613789\ttotal: 14ms\tremaining: 454ms\n",
      "3:\tlearn: 40.4914265\ttotal: 19.3ms\tremaining: 463ms\n",
      "4:\tlearn: 39.2543087\ttotal: 24.4ms\tremaining: 463ms\n",
      "5:\tlearn: 36.2887762\ttotal: 29.4ms\tremaining: 461ms\n",
      "6:\tlearn: 28.5152438\ttotal: 34ms\tremaining: 451ms\n",
      "7:\tlearn: 25.9386274\ttotal: 37.8ms\tremaining: 435ms\n",
      "8:\tlearn: 17.3108983\ttotal: 41.7ms\tremaining: 422ms\n",
      "9:\tlearn: 14.6444965\ttotal: 45.6ms\tremaining: 411ms\n",
      "10:\tlearn: 11.6472691\ttotal: 49.4ms\tremaining: 399ms\n",
      "11:\tlearn: 9.8696037\ttotal: 53.1ms\tremaining: 389ms\n",
      "12:\tlearn: 9.5303797\ttotal: 56.8ms\tremaining: 380ms\n",
      "13:\tlearn: 8.0644795\ttotal: 60.8ms\tremaining: 373ms\n",
      "14:\tlearn: 7.6857457\ttotal: 64.7ms\tremaining: 367ms\n",
      "15:\tlearn: 6.3575220\ttotal: 68.5ms\tremaining: 360ms\n",
      "16:\tlearn: 5.7299194\ttotal: 72.4ms\tremaining: 353ms\n",
      "17:\tlearn: 5.5861127\ttotal: 76.4ms\tremaining: 348ms\n",
      "18:\tlearn: 5.0298164\ttotal: 80.2ms\tremaining: 342ms\n",
      "19:\tlearn: 4.8412666\ttotal: 84.1ms\tremaining: 336ms\n",
      "20:\tlearn: 4.4603157\ttotal: 87.9ms\tremaining: 331ms\n",
      "21:\tlearn: 4.2926017\ttotal: 91.9ms\tremaining: 326ms\n",
      "22:\tlearn: 4.1835971\ttotal: 95.7ms\tremaining: 321ms\n",
      "23:\tlearn: 4.1230099\ttotal: 99.6ms\tremaining: 315ms\n",
      "24:\tlearn: 3.9467445\ttotal: 104ms\tremaining: 311ms\n",
      "25:\tlearn: 3.8871089\ttotal: 108ms\tremaining: 306ms\n",
      "26:\tlearn: 3.8463345\ttotal: 112ms\tremaining: 302ms\n",
      "27:\tlearn: 3.8056203\ttotal: 116ms\tremaining: 297ms\n",
      "28:\tlearn: 3.7876403\ttotal: 120ms\tremaining: 293ms\n",
      "29:\tlearn: 3.6284328\ttotal: 124ms\tremaining: 289ms\n",
      "30:\tlearn: 3.6055649\ttotal: 128ms\tremaining: 284ms\n",
      "31:\tlearn: 3.5940280\ttotal: 132ms\tremaining: 281ms\n",
      "32:\tlearn: 3.5793090\ttotal: 136ms\tremaining: 276ms\n",
      "33:\tlearn: 3.5673520\ttotal: 140ms\tremaining: 271ms\n",
      "34:\tlearn: 3.5230007\ttotal: 144ms\tremaining: 267ms\n",
      "35:\tlearn: 3.4669562\ttotal: 148ms\tremaining: 262ms\n",
      "36:\tlearn: 3.4440135\ttotal: 151ms\tremaining: 258ms\n",
      "37:\tlearn: 3.4152852\ttotal: 155ms\tremaining: 253ms\n",
      "38:\tlearn: 3.4082630\ttotal: 159ms\tremaining: 248ms\n",
      "39:\tlearn: 3.3770145\ttotal: 163ms\tremaining: 244ms\n",
      "40:\tlearn: 3.3614929\ttotal: 167ms\tremaining: 240ms\n",
      "41:\tlearn: 3.3341389\ttotal: 171ms\tremaining: 236ms\n",
      "42:\tlearn: 3.3261102\ttotal: 174ms\tremaining: 231ms\n",
      "43:\tlearn: 3.2888567\ttotal: 178ms\tremaining: 227ms\n",
      "44:\tlearn: 3.2663433\ttotal: 182ms\tremaining: 223ms\n",
      "45:\tlearn: 3.2635380\ttotal: 186ms\tremaining: 219ms\n",
      "46:\tlearn: 3.2617324\ttotal: 190ms\tremaining: 214ms\n",
      "47:\tlearn: 3.2491885\ttotal: 194ms\tremaining: 210ms\n",
      "48:\tlearn: 3.2392176\ttotal: 197ms\tremaining: 206ms\n",
      "49:\tlearn: 3.2175411\ttotal: 202ms\tremaining: 202ms\n",
      "50:\tlearn: 3.2081708\ttotal: 206ms\tremaining: 198ms\n",
      "51:\tlearn: 3.1994932\ttotal: 211ms\tremaining: 194ms\n",
      "52:\tlearn: 3.1950443\ttotal: 215ms\tremaining: 191ms\n",
      "53:\tlearn: 3.1271882\ttotal: 220ms\tremaining: 187ms\n",
      "54:\tlearn: 3.1190950\ttotal: 224ms\tremaining: 183ms\n",
      "55:\tlearn: 3.1153948\ttotal: 229ms\tremaining: 180ms\n",
      "56:\tlearn: 3.0962527\ttotal: 233ms\tremaining: 176ms\n",
      "57:\tlearn: 3.0901371\ttotal: 238ms\tremaining: 172ms\n",
      "58:\tlearn: 3.0804579\ttotal: 243ms\tremaining: 169ms\n",
      "59:\tlearn: 3.0297250\ttotal: 248ms\tremaining: 165ms\n",
      "60:\tlearn: 3.0125431\ttotal: 253ms\tremaining: 162ms\n",
      "61:\tlearn: 2.9943267\ttotal: 258ms\tremaining: 158ms\n",
      "62:\tlearn: 2.9917966\ttotal: 263ms\tremaining: 154ms\n",
      "63:\tlearn: 2.9897058\ttotal: 267ms\tremaining: 150ms\n",
      "64:\tlearn: 2.9866149\ttotal: 272ms\tremaining: 147ms\n",
      "65:\tlearn: 2.9855302\ttotal: 277ms\tremaining: 143ms\n",
      "66:\tlearn: 2.9824779\ttotal: 282ms\tremaining: 139ms\n",
      "67:\tlearn: 2.9558369\ttotal: 287ms\tremaining: 135ms\n",
      "68:\tlearn: 2.9509483\ttotal: 291ms\tremaining: 131ms\n",
      "69:\tlearn: 2.9403905\ttotal: 296ms\tremaining: 127ms\n",
      "70:\tlearn: 2.9077029\ttotal: 301ms\tremaining: 123ms\n",
      "71:\tlearn: 2.8778609\ttotal: 306ms\tremaining: 119ms\n",
      "72:\tlearn: 2.8744426\ttotal: 311ms\tremaining: 115ms\n",
      "73:\tlearn: 2.8715901\ttotal: 316ms\tremaining: 111ms\n",
      "74:\tlearn: 2.8708719\ttotal: 320ms\tremaining: 107ms\n",
      "75:\tlearn: 2.8649749\ttotal: 325ms\tremaining: 103ms\n",
      "76:\tlearn: 2.8633565\ttotal: 331ms\tremaining: 98.8ms\n",
      "77:\tlearn: 2.8562750\ttotal: 336ms\tremaining: 94.7ms\n",
      "78:\tlearn: 2.8536321\ttotal: 341ms\tremaining: 90.7ms\n",
      "79:\tlearn: 2.8524403\ttotal: 346ms\tremaining: 86.4ms\n",
      "80:\tlearn: 2.8419744\ttotal: 351ms\tremaining: 82.3ms\n",
      "81:\tlearn: 2.8413121\ttotal: 355ms\tremaining: 78ms\n",
      "82:\tlearn: 2.8371112\ttotal: 360ms\tremaining: 73.8ms\n",
      "83:\tlearn: 2.8345721\ttotal: 366ms\tremaining: 69.7ms\n",
      "84:\tlearn: 2.8219614\ttotal: 371ms\tremaining: 65.5ms\n",
      "85:\tlearn: 2.8196090\ttotal: 376ms\tremaining: 61.3ms\n",
      "86:\tlearn: 2.8145112\ttotal: 382ms\tremaining: 57ms\n",
      "87:\tlearn: 2.8071632\ttotal: 387ms\tremaining: 52.7ms\n",
      "88:\tlearn: 2.8054220\ttotal: 392ms\tremaining: 48.4ms\n",
      "89:\tlearn: 2.7928529\ttotal: 397ms\tremaining: 44.1ms\n",
      "90:\tlearn: 2.7844503\ttotal: 402ms\tremaining: 39.8ms\n",
      "91:\tlearn: 2.7762468\ttotal: 407ms\tremaining: 35.4ms\n",
      "92:\tlearn: 2.7697654\ttotal: 413ms\tremaining: 31.1ms\n",
      "93:\tlearn: 2.7623918\ttotal: 418ms\tremaining: 26.7ms\n",
      "94:\tlearn: 2.7599449\ttotal: 423ms\tremaining: 22.3ms\n",
      "95:\tlearn: 2.7588401\ttotal: 429ms\tremaining: 17.9ms\n",
      "96:\tlearn: 2.7569932\ttotal: 434ms\tremaining: 13.4ms\n",
      "97:\tlearn: 2.7565345\ttotal: 439ms\tremaining: 8.95ms\n",
      "98:\tlearn: 2.7469397\ttotal: 443ms\tremaining: 4.48ms\n",
      "99:\tlearn: 2.7450980\ttotal: 449ms\tremaining: 0us\n"
     ]
    },
    {
     "data": {
      "text/plain": [
       "<catboost.core.CatBoostClassifier at 0x7f98a53b3d30>"
      ]
     },
     "execution_count": 241,
     "metadata": {},
     "output_type": "execute_result"
    }
   ],
   "source": [
    "# Fit model\n",
    "model.fit(train_dataset)"
   ]
  },
  {
   "cell_type": "code",
   "execution_count": 242,
   "id": "c75e4b6e",
   "metadata": {},
   "outputs": [
    {
     "data": {
      "text/plain": [
       "array([[\"('KotlinCompletionContributor', 'kind-BasicCompletionSession.kt:711')\"],\n",
       "       [\"('KotlinCompletionContributor', 'kind-BasicCompletionSession.kt:711')\"],\n",
       "       [\"('KotlinCompletionContributor', 'kinds-descriptor-BasicCompletionSession.kt:859-LookupElementsCollector.kt:91')\"],\n",
       "       [\"('KotlinCompletionContributor', 'kinds-descriptor-BasicCompletionSession.kt:859-LookupElementsCollector.kt:91')\"],\n",
       "       [\"('KotlinCompletionContributor', 'kinds-descriptor-BasicCompletionSession.kt:859-LookupElementsCollector.kt:91')\"],\n",
       "       [\"('KotlinCompletionContributor', 'kinds-BasicCompletionSession.kt:656')\"],\n",
       "       [\"('KotlinCompletionContributor', 'kinds-descriptor-BasicCompletionSession.kt:859-LookupElementsCollector.kt:91')\"],\n",
       "       [\"('KotlinCompletionContributor', 'kind-BasicCompletionSession.kt:711')\"],\n",
       "       [\"('KotlinCompletionContributor', 'kinds-descriptor-BasicCompletionSession.kt:859-LookupElementsCollector.kt:91')\"],\n",
       "       [\"('KotlinCompletionContributor', 'kind-BasicCompletionSession.kt:711')\"]],\n",
       "      dtype=object)"
      ]
     },
     "execution_count": 242,
     "metadata": {},
     "output_type": "execute_result"
    }
   ],
   "source": [
    "# Get predicted classes\n",
    "preds_class = model.predict(eval_dataset)\n",
    "preds_class[:10]"
   ]
  },
  {
   "cell_type": "code",
   "execution_count": 243,
   "id": "6aabd65d",
   "metadata": {},
   "outputs": [
    {
     "data": {
      "text/plain": [
       "target    0.813772\n",
       "dtype: float64"
      ]
     },
     "execution_count": 243,
     "metadata": {},
     "output_type": "execute_result"
    }
   ],
   "source": [
    "(preds_class == dev[1]).mean()"
   ]
  },
  {
   "cell_type": "code",
   "execution_count": 244,
   "id": "b39333eb",
   "metadata": {},
   "outputs": [
    {
     "data": {
      "text/plain": [
       "target    0.790146\n",
       "dtype: float64"
      ]
     },
     "execution_count": 244,
     "metadata": {},
     "output_type": "execute_result"
    }
   ],
   "source": [
    "(test[1] == model.predict(test_dataset)).mean()"
   ]
  },
  {
   "cell_type": "code",
   "execution_count": 245,
   "id": "ea0a464d",
   "metadata": {},
   "outputs": [
    {
     "data": {
      "text/plain": [
       "0.7104851330203443"
      ]
     },
     "execution_count": 245,
     "metadata": {},
     "output_type": "execute_result"
    }
   ],
   "source": [
    "max(dev[1].groupby(\"target\").size() / len(dev[1]))"
   ]
  },
  {
   "cell_type": "code",
   "execution_count": 246,
   "id": "35fcbb76",
   "metadata": {},
   "outputs": [
    {
     "data": {
      "text/plain": [
       "0.7135036496350365"
      ]
     },
     "execution_count": 246,
     "metadata": {},
     "output_type": "execute_result"
    }
   ],
   "source": [
    "max(test[1].groupby(\"target\").size() / len(test[1]))"
   ]
  },
  {
   "cell_type": "code",
   "execution_count": 247,
   "id": "7c4fb025",
   "metadata": {},
   "outputs": [
    {
     "data": {
      "text/plain": [
       "numpy.ndarray"
      ]
     },
     "execution_count": 247,
     "metadata": {},
     "output_type": "execute_result"
    }
   ],
   "source": [
    "type(preds_class)"
   ]
  },
  {
   "cell_type": "code",
   "execution_count": 248,
   "id": "78d6d373",
   "metadata": {},
   "outputs": [],
   "source": [
    "id2preds = utils.make_preds(dev[1], preds_class)"
   ]
  },
  {
   "cell_type": "code",
   "execution_count": 249,
   "id": "ed31f06d",
   "metadata": {},
   "outputs": [
    {
     "data": {
      "text/html": [
       "<div>\n",
       "<style scoped>\n",
       "    .dataframe tbody tr th:only-of-type {\n",
       "        vertical-align: middle;\n",
       "    }\n",
       "\n",
       "    .dataframe tbody tr th {\n",
       "        vertical-align: top;\n",
       "    }\n",
       "\n",
       "    .dataframe thead th {\n",
       "        text-align: right;\n",
       "    }\n",
       "</style>\n",
       "<table border=\"1\" class=\"dataframe\">\n",
       "  <thead>\n",
       "    <tr style=\"text-align: right;\">\n",
       "      <th></th>\n",
       "      <th>target</th>\n",
       "    </tr>\n",
       "    <tr>\n",
       "      <th>session_id</th>\n",
       "      <th></th>\n",
       "    </tr>\n",
       "  </thead>\n",
       "  <tbody>\n",
       "    <tr>\n",
       "      <th>6b4e6b2c-5ea7-48a3-9e11-ebb3d0b72e81</th>\n",
       "      <td>('KotlinCompletionContributor', 'kind-BasicCom...</td>\n",
       "    </tr>\n",
       "    <tr>\n",
       "      <th>cfb26963-0190-4fb0-9556-255949566a06</th>\n",
       "      <td>('KotlinCompletionContributor', 'kind-BasicCom...</td>\n",
       "    </tr>\n",
       "    <tr>\n",
       "      <th>76746bca-bbbe-470d-ab6e-56ff8ebe0c80</th>\n",
       "      <td>('KotlinCompletionContributor', 'kinds-descrip...</td>\n",
       "    </tr>\n",
       "    <tr>\n",
       "      <th>5808a373-9a6e-44e4-87bf-70c478b3d818</th>\n",
       "      <td>('KotlinCompletionContributor', 'kinds-descrip...</td>\n",
       "    </tr>\n",
       "    <tr>\n",
       "      <th>49ce8072-356f-47a9-a656-f3e7cf337a54</th>\n",
       "      <td>('KotlinCompletionContributor', 'kinds-descrip...</td>\n",
       "    </tr>\n",
       "    <tr>\n",
       "      <th>...</th>\n",
       "      <td>...</td>\n",
       "    </tr>\n",
       "    <tr>\n",
       "      <th>5649e3ed-a2bf-4c9d-8a08-f0ff75f69cba</th>\n",
       "      <td>('KotlinCompletionContributor', 'kinds-descrip...</td>\n",
       "    </tr>\n",
       "    <tr>\n",
       "      <th>1d6d4978-27a8-4d98-bd1b-f7be70aa1dcd</th>\n",
       "      <td>('KotlinCompletionContributor', 'kinds-descrip...</td>\n",
       "    </tr>\n",
       "    <tr>\n",
       "      <th>1d4ceacc-b8fc-405d-ac5b-d7b0eb173402</th>\n",
       "      <td>('KotlinCompletionContributor', 'kinds-descrip...</td>\n",
       "    </tr>\n",
       "    <tr>\n",
       "      <th>7f10e5a4-2ab9-4637-ab63-6fa6315db061</th>\n",
       "      <td>('KotlinCompletionContributor', 'kinds-descrip...</td>\n",
       "    </tr>\n",
       "    <tr>\n",
       "      <th>a3d9c36e-ccdf-48bf-b6b5-c41744c3a001</th>\n",
       "      <td>('KotlinCompletionContributor', 'kind-BasicCom...</td>\n",
       "    </tr>\n",
       "  </tbody>\n",
       "</table>\n",
       "<p>639 rows × 1 columns</p>\n",
       "</div>"
      ],
      "text/plain": [
       "                                                                                 target\n",
       "session_id                                                                             \n",
       "6b4e6b2c-5ea7-48a3-9e11-ebb3d0b72e81  ('KotlinCompletionContributor', 'kind-BasicCom...\n",
       "cfb26963-0190-4fb0-9556-255949566a06  ('KotlinCompletionContributor', 'kind-BasicCom...\n",
       "76746bca-bbbe-470d-ab6e-56ff8ebe0c80  ('KotlinCompletionContributor', 'kinds-descrip...\n",
       "5808a373-9a6e-44e4-87bf-70c478b3d818  ('KotlinCompletionContributor', 'kinds-descrip...\n",
       "49ce8072-356f-47a9-a656-f3e7cf337a54  ('KotlinCompletionContributor', 'kinds-descrip...\n",
       "...                                                                                 ...\n",
       "5649e3ed-a2bf-4c9d-8a08-f0ff75f69cba  ('KotlinCompletionContributor', 'kinds-descrip...\n",
       "1d6d4978-27a8-4d98-bd1b-f7be70aa1dcd  ('KotlinCompletionContributor', 'kinds-descrip...\n",
       "1d4ceacc-b8fc-405d-ac5b-d7b0eb173402  ('KotlinCompletionContributor', 'kinds-descrip...\n",
       "7f10e5a4-2ab9-4637-ab63-6fa6315db061  ('KotlinCompletionContributor', 'kinds-descrip...\n",
       "a3d9c36e-ccdf-48bf-b6b5-c41744c3a001  ('KotlinCompletionContributor', 'kind-BasicCom...\n",
       "\n",
       "[639 rows x 1 columns]"
      ]
     },
     "execution_count": 249,
     "metadata": {},
     "output_type": "execute_result"
    }
   ],
   "source": [
    "dev[1]"
   ]
  },
  {
   "cell_type": "code",
   "execution_count": 250,
   "id": "5bb7dcd4",
   "metadata": {},
   "outputs": [
    {
     "data": {
      "text/plain": [
       "array([[\"('KotlinCompletionContributor', 'kind-BasicCompletionSession.kt:711')\"],\n",
       "       [\"('KotlinCompletionContributor', 'kind-BasicCompletionSession.kt:711')\"],\n",
       "       [\"('KotlinCompletionContributor', 'kinds-descriptor-BasicCompletionSession.kt:859-LookupElementsCollector.kt:91')\"],\n",
       "       [\"('KotlinCompletionContributor', 'kinds-descriptor-BasicCompletionSession.kt:859-LookupElementsCollector.kt:91')\"],\n",
       "       [\"('KotlinCompletionContributor', 'kinds-descriptor-BasicCompletionSession.kt:859-LookupElementsCollector.kt:91')\"],\n",
       "       [\"('KotlinCompletionContributor', 'kinds-BasicCompletionSession.kt:656')\"],\n",
       "       [\"('KotlinCompletionContributor', 'kinds-descriptor-BasicCompletionSession.kt:859-LookupElementsCollector.kt:91')\"],\n",
       "       [\"('KotlinCompletionContributor', 'kind-BasicCompletionSession.kt:711')\"],\n",
       "       [\"('KotlinCompletionContributor', 'kinds-descriptor-BasicCompletionSession.kt:859-LookupElementsCollector.kt:91')\"],\n",
       "       [\"('KotlinCompletionContributor', 'kind-BasicCompletionSession.kt:711')\"]],\n",
       "      dtype=object)"
      ]
     },
     "execution_count": 250,
     "metadata": {},
     "output_type": "execute_result"
    }
   ],
   "source": [
    "preds_class[:10]"
   ]
  },
  {
   "cell_type": "code",
   "execution_count": 251,
   "id": "1c122345",
   "metadata": {},
   "outputs": [
    {
     "data": {
      "text/plain": [
       "\"('KotlinCompletionContributor', 'kinds-descriptor-BasicCompletionSession.kt:859-LookupElementsCollector.kt:91')\""
      ]
     },
     "execution_count": 251,
     "metadata": {},
     "output_type": "execute_result"
    }
   ],
   "source": [
    "id2preds[\"76746bca-bbbe-470d-ab6e-56ff8ebe0c80\"]"
   ]
  },
  {
   "cell_type": "code",
   "execution_count": 252,
   "id": "51816081",
   "metadata": {},
   "outputs": [
    {
     "data": {
      "text/plain": [
       "(353.264475743349, 0.8309859154929577)"
      ]
     },
     "execution_count": 252,
     "metadata": {},
     "output_type": "execute_result"
    }
   ],
   "source": [
    "utils.calc_metrics(id2preds, id2session)"
   ]
  },
  {
   "cell_type": "code",
   "execution_count": 253,
   "id": "b5c64b6c",
   "metadata": {},
   "outputs": [
    {
     "data": {
      "text/plain": [
       "(353.264475743349, 0.8309859154929577)"
      ]
     },
     "execution_count": 253,
     "metadata": {},
     "output_type": "execute_result"
    }
   ],
   "source": [
    "utils.calc_metrics(utils.make_preds(dev[1], model.predict(eval_dataset)), id2session)"
   ]
  },
  {
   "cell_type": "code",
   "execution_count": 254,
   "id": "0b6382ce",
   "metadata": {},
   "outputs": [
    {
     "data": {
      "text/plain": [
       "(359.08576642335765, 0.8211678832116789)"
      ]
     },
     "execution_count": 254,
     "metadata": {},
     "output_type": "execute_result"
    }
   ],
   "source": [
    "utils.calc_metrics(utils.make_preds(test[1], model.predict(test_dataset)), id2session)"
   ]
  },
  {
   "cell_type": "markdown",
   "id": "31c94790",
   "metadata": {},
   "source": [
    "## Baseline"
   ]
  },
  {
   "cell_type": "markdown",
   "id": "0ba15be0",
   "metadata": {},
   "source": [
    "### dev"
   ]
  },
  {
   "cell_type": "code",
   "execution_count": 321,
   "id": "e8655a57",
   "metadata": {},
   "outputs": [],
   "source": [
    "id2preds = {\n",
    "    session_id : \"('KotlinCompletionContributor', 'kinds-descriptor-BasicCompletionSession.kt:859-LookupElementsCollector.kt:91')\"\n",
    "    for session_id in dev[1].index\n",
    "}"
   ]
  },
  {
   "cell_type": "code",
   "execution_count": 322,
   "id": "a7758c53",
   "metadata": {},
   "outputs": [
    {
     "data": {
      "text/plain": [
       "(382.04851330203445, 0.7230046948356808)"
      ]
     },
     "execution_count": 322,
     "metadata": {},
     "output_type": "execute_result"
    }
   ],
   "source": [
    "utils.calc_metrics(id2preds, id2session)"
   ]
  },
  {
   "cell_type": "code",
   "execution_count": 323,
   "id": "f9760ae5",
   "metadata": {},
   "outputs": [
    {
     "name": "stdout",
     "output_type": "stream",
     "text": [
      "approx recall (50ms): 0.844 (539 / 639)\n",
      "approx recall (100ms): 0.890 (569 / 639)\n",
      "approx recall (150ms): 0.900 (575 / 639)\n",
      "approx recall (200ms): 0.906 (579 / 639)\n",
      "mean approx latency (50ms): 340.188 (217380.000 / 639, skipped = 0)\n",
      "mean approx latency (100ms): 390.188 (249330.000 / 639, skipped = 0)\n",
      "mean approx latency (150ms): 440.188 (281280.000 / 639, skipped = 0)\n",
      "mean approx latency (200ms): 490.188 (313230.000 / 639, skipped = 0)\n",
      "baseline metrics (skipped = 0):\n",
      "    latency: 391.086 (249904.000 / 639)\n",
      "    recall: 0.873 (558 / 639)\n"
     ]
    }
   ],
   "source": [
    "utils.calc_current_metrics(id2preds, id2session)"
   ]
  },
  {
   "cell_type": "markdown",
   "id": "1db05222",
   "metadata": {},
   "source": [
    "### test"
   ]
  },
  {
   "cell_type": "code",
   "execution_count": 324,
   "id": "1e6bd4f9",
   "metadata": {},
   "outputs": [
    {
     "data": {
      "text/plain": [
       "(405.17518248175185, 0.7427007299270073)"
      ]
     },
     "execution_count": 324,
     "metadata": {},
     "output_type": "execute_result"
    }
   ],
   "source": [
    "id2preds = {\n",
    "    session_id : \"('KotlinCompletionContributor', 'kinds-descriptor-BasicCompletionSession.kt:859-LookupElementsCollector.kt:91')\"\n",
    "    for session_id in test[1].index\n",
    "}\n",
    "utils.calc_metrics(id2preds, id2session)"
   ]
  },
  {
   "cell_type": "code",
   "execution_count": 325,
   "id": "d88859e3",
   "metadata": {},
   "outputs": [
    {
     "name": "stdout",
     "output_type": "stream",
     "text": [
      "approx recall (50ms): 0.788 (432 / 548)\n",
      "approx recall (100ms): 0.827 (453 / 548)\n",
      "approx recall (150ms): 0.845 (463 / 548)\n",
      "approx recall (200ms): 0.854 (468 / 548)\n",
      "mean approx latency (50ms): 316.464 (173422.000 / 548, skipped = 0)\n",
      "mean approx latency (100ms): 366.464 (200822.000 / 548, skipped = 0)\n",
      "mean approx latency (150ms): 416.464 (228222.000 / 548, skipped = 0)\n",
      "mean approx latency (200ms): 466.464 (255622.000 / 548, skipped = 0)\n",
      "baseline metrics (skipped = 0):\n",
      "    latency: 410.854 (225148.000 / 548)\n",
      "    recall: 0.852 (467 / 548)\n"
     ]
    }
   ],
   "source": [
    "utils.calc_current_metrics(id2preds, id2session)"
   ]
  },
  {
   "cell_type": "markdown",
   "id": "39577cc4",
   "metadata": {},
   "source": [
    "## Random search"
   ]
  },
  {
   "cell_type": "code",
   "execution_count": 299,
   "id": "e5794088",
   "metadata": {},
   "outputs": [],
   "source": [
    "import tqdm"
   ]
  },
  {
   "cell_type": "code",
   "execution_count": 300,
   "id": "aa39cd05",
   "metadata": {},
   "outputs": [
    {
     "name": "stderr",
     "output_type": "stream",
     "text": [
      "  4%|▍         | 2/50 [00:04<01:45,  2.20s/it]learning rate is greater than 1. You probably need to decrease learning rate.\n",
      "learning rate is greater than 1. You probably need to decrease learning rate.\n",
      "learning rate is greater than 1. You probably need to decrease learning rate.\n",
      "  8%|▊         | 4/50 [00:07<01:28,  1.91s/it]learning rate is greater than 1. You probably need to decrease learning rate.\n",
      "learning rate is greater than 1. You probably need to decrease learning rate.\n",
      "learning rate is greater than 1. You probably need to decrease learning rate.\n",
      " 26%|██▌       | 13/50 [00:59<02:37,  4.26s/it]learning rate is greater than 1. You probably need to decrease learning rate.\n",
      "learning rate is greater than 1. You probably need to decrease learning rate.\n",
      "learning rate is greater than 1. You probably need to decrease learning rate.\n",
      " 32%|███▏      | 16/50 [01:18<02:49,  5.00s/it]learning rate is greater than 1. You probably need to decrease learning rate.\n",
      "learning rate is greater than 1. You probably need to decrease learning rate.\n",
      "learning rate is greater than 1. You probably need to decrease learning rate.\n",
      " 42%|████▏     | 21/50 [02:09<04:19,  8.96s/it]learning rate is greater than 1. You probably need to decrease learning rate.\n",
      "learning rate is greater than 1. You probably need to decrease learning rate.\n",
      "learning rate is greater than 1. You probably need to decrease learning rate.\n",
      " 54%|█████▍    | 27/50 [02:40<02:11,  5.72s/it]learning rate is greater than 1. You probably need to decrease learning rate.\n",
      "learning rate is greater than 1. You probably need to decrease learning rate.\n",
      "learning rate is greater than 1. You probably need to decrease learning rate.\n",
      " 82%|████████▏ | 41/50 [03:42<00:33,  3.74s/it]learning rate is greater than 1. You probably need to decrease learning rate.\n",
      "learning rate is greater than 1. You probably need to decrease learning rate.\n",
      "learning rate is greater than 1. You probably need to decrease learning rate.\n",
      " 86%|████████▌ | 43/50 [03:48<00:21,  3.14s/it]learning rate is greater than 1. You probably need to decrease learning rate.\n",
      "learning rate is greater than 1. You probably need to decrease learning rate.\n",
      "learning rate is greater than 1. You probably need to decrease learning rate.\n",
      " 94%|█████████▍| 47/50 [04:19<00:19,  6.46s/it]learning rate is greater than 1. You probably need to decrease learning rate.\n",
      "learning rate is greater than 1. You probably need to decrease learning rate.\n",
      "learning rate is greater than 1. You probably need to decrease learning rate.\n",
      " 98%|█████████▊| 49/50 [04:23<00:04,  4.09s/it]learning rate is greater than 1. You probably need to decrease learning rate.\n",
      "learning rate is greater than 1. You probably need to decrease learning rate.\n",
      "learning rate is greater than 1. You probably need to decrease learning rate.\n",
      "100%|██████████| 50/50 [04:48<00:00,  5.77s/it]"
     ]
    },
    {
     "name": "stdout",
     "output_type": "stream",
     "text": [
      "CPU times: user 30min 31s, sys: 4min 50s, total: 35min 21s\n",
      "Wall time: 4min 48s\n"
     ]
    },
    {
     "name": "stderr",
     "output_type": "stream",
     "text": [
      "\n"
     ]
    }
   ],
   "source": [
    "%%time\n",
    "rng = random.Random(42)\n",
    "all_metrics = []\n",
    "for i in tqdm.tqdm(range(50)):\n",
    "    model = cb.CatBoostClassifier(\n",
    "        iterations=rng.choice([10, 50, 100, 200]),\n",
    "        learning_rate=rng.choice([None, 1e-3, 1e-2, 1e-1, 3e-3, 1, 3, 10]),\n",
    "        depth=rng.choice(list(range(4, 11))),\n",
    "        l2_leaf_reg=rng.choice([None, 0.1, 1, 10]),\n",
    "        random_strength=rng.choice([0.3, 1, 3]),\n",
    "        loss_function='MultiClass',\n",
    "        custom_metric='Accuracy',\n",
    "    )\n",
    "    model.fit(train_dataset, verbose=0)\n",
    "    \n",
    "    dev_metrics = utils.calc_metrics(utils.make_preds(dev[1], model.predict(eval_dataset)), id2session)\n",
    "    all_metrics.append((i, dev_metrics, model))"
   ]
  },
  {
   "cell_type": "code",
   "execution_count": 334,
   "id": "dc18b19f",
   "metadata": {},
   "outputs": [
    {
     "data": {
      "text/plain": [
       "[(3, (369.1236306729264, 0.9014084507042254)),\n",
       " (5, (369.1236306729264, 0.9014084507042254)),\n",
       " (37, (369.1236306729264, 0.9014084507042254)),\n",
       " (36, (375.42410015649455, 0.8951486697965572)),\n",
       " (29, (363.2957746478873, 0.8935837245696401)),\n",
       " (46, (373.8982785602504, 0.892018779342723)),\n",
       " (45, (374.15649452269173, 0.8904538341158059)),\n",
       " (38, (366.660406885759, 0.8873239436619719)),\n",
       " (17, (364.6322378716745, 0.8841940532081377)),\n",
       " (19, (371.0610328638498, 0.8841940532081377)),\n",
       " (20, (371.01564945226914, 0.8794992175273866)),\n",
       " (1, (382.61502347417843, 0.8685446009389671)),\n",
       " (28, (382.61502347417843, 0.8685446009389671)),\n",
       " (33, (382.61502347417843, 0.8685446009389671)),\n",
       " (9, (387.0610328638498, 0.863849765258216)),\n",
       " (18, (387.0610328638498, 0.863849765258216)),\n",
       " (23, (386.943661971831, 0.863849765258216)),\n",
       " (24, (387.0610328638498, 0.863849765258216)),\n",
       " (25, (387.0610328638498, 0.863849765258216)),\n",
       " (4, (351.25195618153367, 0.8622848200312989)),\n",
       " (27, (365.05164319248826, 0.8560250391236307)),\n",
       " (13, (353.99530516431923, 0.8528951486697965)),\n",
       " (12, (375.72143974960875, 0.8497652582159625)),\n",
       " (21, (367.9342723004695, 0.8450704225352113)),\n",
       " (43, (354.7292644757433, 0.8435054773082942)),\n",
       " (30, (372.07198748043817, 0.8403755868544601)),\n",
       " (8, (345.32237871674494, 0.837245696400626)),\n",
       " (0, (367.2284820031299, 0.8278560250391236)),\n",
       " (14, (358.53051643192487, 0.8231611893583725)),\n",
       " (41, (361.57276995305165, 0.8059467918622848)),\n",
       " (44, (361.90453834115806, 0.8059467918622848)),\n",
       " (11, (359.17683881064164, 0.8043818466353677)),\n",
       " (48, (358.67449139280126, 0.8043818466353677)),\n",
       " (49, (320.25821596244134, 0.8028169014084507)),\n",
       " (2, (341.8513302034429, 0.8012519561815337)),\n",
       " (22, (360.7433489827856, 0.7996870109546166)),\n",
       " (31, (362.0422535211268, 0.7996870109546166)),\n",
       " (35, (361.62754303599377, 0.7996870109546166)),\n",
       " (40, (355.3192488262911, 0.7981220657276995)),\n",
       " (7, (355.52738654147106, 0.7965571205007824)),\n",
       " (34, (354.4679186228482, 0.7965571205007824)),\n",
       " (39, (354.1627543035994, 0.7965571205007824)),\n",
       " (10, (328.8904538341158, 0.7949921752738655)),\n",
       " (15, (357.7151799687011, 0.7949921752738655)),\n",
       " (26, (355.4569640062598, 0.7949921752738655)),\n",
       " (16, (314.53677621283254, 0.7918622848200313)),\n",
       " (42, (366.73708920187795, 0.7918622848200313)),\n",
       " (32, (355.4507042253521, 0.7871674491392802)),\n",
       " (47, (335.5633802816901, 0.7777777777777778)),\n",
       " (6, (318.2128325508607, 0.758998435054773))]"
      ]
     },
     "execution_count": 334,
     "metadata": {},
     "output_type": "execute_result"
    }
   ],
   "source": [
    "[\n",
    "    (ind, metrics)\n",
    "    for ind, metrics, _ in sorted(all_metrics, key=lambda x: x[1][1], reverse=True)\n",
    "]"
   ]
  },
  {
   "cell_type": "code",
   "execution_count": 302,
   "id": "3996c209",
   "metadata": {},
   "outputs": [],
   "source": [
    "i, score, model = all_metrics[5]"
   ]
  },
  {
   "cell_type": "code",
   "execution_count": 303,
   "id": "a9ad4133",
   "metadata": {},
   "outputs": [
    {
     "data": {
      "text/plain": [
       "(400.9215328467153, 0.8594890510948905)"
      ]
     },
     "execution_count": 303,
     "metadata": {},
     "output_type": "execute_result"
    }
   ],
   "source": [
    "utils.calc_metrics(utils.make_preds(test[1], model.predict(test_dataset)), id2session)"
   ]
  },
  {
   "cell_type": "code",
   "execution_count": 304,
   "id": "2c95031b",
   "metadata": {},
   "outputs": [],
   "source": [
    "i, score, model = all_metrics[29]"
   ]
  },
  {
   "cell_type": "code",
   "execution_count": 305,
   "id": "1b0106bc",
   "metadata": {},
   "outputs": [
    {
     "data": {
      "text/plain": [
       "(391.85766423357666, 0.8485401459854015)"
      ]
     },
     "execution_count": 305,
     "metadata": {},
     "output_type": "execute_result"
    }
   ],
   "source": [
    "utils.calc_metrics(utils.make_preds(test[1], model.predict(test_dataset)), id2session)"
   ]
  },
  {
   "cell_type": "code",
   "execution_count": 319,
   "id": "8eed4717",
   "metadata": {},
   "outputs": [],
   "source": [
    "i, score, model = all_metrics[4]"
   ]
  },
  {
   "cell_type": "code",
   "execution_count": 320,
   "id": "69b0b4b7",
   "metadata": {},
   "outputs": [
    {
     "data": {
      "text/plain": [
       "(354.77372262773724, 0.791970802919708)"
      ]
     },
     "execution_count": 320,
     "metadata": {},
     "output_type": "execute_result"
    }
   ],
   "source": [
    "utils.calc_metrics(utils.make_preds(test[1], model.predict(test_dataset)), id2session)"
   ]
  },
  {
   "cell_type": "code",
   "execution_count": 326,
   "id": "9a542f46",
   "metadata": {},
   "outputs": [],
   "source": [
    "i, score, model = all_metrics[49]"
   ]
  },
  {
   "cell_type": "code",
   "execution_count": 327,
   "id": "ffd0fc5b",
   "metadata": {},
   "outputs": [
    {
     "data": {
      "text/plain": [
       "(338.7810218978102, 0.7536496350364964)"
      ]
     },
     "execution_count": 327,
     "metadata": {},
     "output_type": "execute_result"
    }
   ],
   "source": [
    "utils.calc_metrics(utils.make_preds(test[1], model.predict(test_dataset)), id2session)"
   ]
  },
  {
   "cell_type": "code",
   "execution_count": 338,
   "id": "f1e7ebf1",
   "metadata": {},
   "outputs": [
    {
     "data": {
      "text/plain": [
       "[(16, (314.53677621283254, 0.7918622848200313)),\n",
       " (6, (318.2128325508607, 0.758998435054773)),\n",
       " (49, (320.25821596244134, 0.8028169014084507)),\n",
       " (10, (328.8904538341158, 0.7949921752738655)),\n",
       " (47, (335.5633802816901, 0.7777777777777778)),\n",
       " (2, (341.8513302034429, 0.8012519561815337)),\n",
       " (8, (345.32237871674494, 0.837245696400626)),\n",
       " (4, (351.25195618153367, 0.8622848200312989)),\n",
       " (13, (353.99530516431923, 0.8528951486697965)),\n",
       " (39, (354.1627543035994, 0.7965571205007824)),\n",
       " (34, (354.4679186228482, 0.7965571205007824)),\n",
       " (43, (354.7292644757433, 0.8435054773082942)),\n",
       " (40, (355.3192488262911, 0.7981220657276995)),\n",
       " (32, (355.4507042253521, 0.7871674491392802)),\n",
       " (26, (355.4569640062598, 0.7949921752738655)),\n",
       " (7, (355.52738654147106, 0.7965571205007824)),\n",
       " (15, (357.7151799687011, 0.7949921752738655)),\n",
       " (14, (358.53051643192487, 0.8231611893583725)),\n",
       " (48, (358.67449139280126, 0.8043818466353677)),\n",
       " (11, (359.17683881064164, 0.8043818466353677)),\n",
       " (22, (360.7433489827856, 0.7996870109546166)),\n",
       " (41, (361.57276995305165, 0.8059467918622848)),\n",
       " (35, (361.62754303599377, 0.7996870109546166)),\n",
       " (44, (361.90453834115806, 0.8059467918622848)),\n",
       " (31, (362.0422535211268, 0.7996870109546166)),\n",
       " (29, (363.2957746478873, 0.8935837245696401)),\n",
       " (17, (364.6322378716745, 0.8841940532081377)),\n",
       " (27, (365.05164319248826, 0.8560250391236307)),\n",
       " (38, (366.660406885759, 0.8873239436619719)),\n",
       " (42, (366.73708920187795, 0.7918622848200313)),\n",
       " (0, (367.2284820031299, 0.8278560250391236)),\n",
       " (21, (367.9342723004695, 0.8450704225352113)),\n",
       " (3, (369.1236306729264, 0.9014084507042254)),\n",
       " (5, (369.1236306729264, 0.9014084507042254)),\n",
       " (37, (369.1236306729264, 0.9014084507042254)),\n",
       " (20, (371.01564945226914, 0.8794992175273866)),\n",
       " (19, (371.0610328638498, 0.8841940532081377)),\n",
       " (30, (372.07198748043817, 0.8403755868544601)),\n",
       " (46, (373.8982785602504, 0.892018779342723)),\n",
       " (45, (374.15649452269173, 0.8904538341158059)),\n",
       " (36, (375.42410015649455, 0.8951486697965572)),\n",
       " (12, (375.72143974960875, 0.8497652582159625)),\n",
       " (1, (382.61502347417843, 0.8685446009389671)),\n",
       " (28, (382.61502347417843, 0.8685446009389671)),\n",
       " (33, (382.61502347417843, 0.8685446009389671)),\n",
       " (23, (386.943661971831, 0.863849765258216)),\n",
       " (9, (387.0610328638498, 0.863849765258216)),\n",
       " (18, (387.0610328638498, 0.863849765258216)),\n",
       " (24, (387.0610328638498, 0.863849765258216)),\n",
       " (25, (387.0610328638498, 0.863849765258216))]"
      ]
     },
     "execution_count": 338,
     "metadata": {},
     "output_type": "execute_result"
    }
   ],
   "source": [
    "[\n",
    "    (ind, metrics)\n",
    "    for ind, metrics, _ in sorted(all_metrics, key=lambda x: x[1][0])\n",
    "]"
   ]
  },
  {
   "cell_type": "code",
   "execution_count": 339,
   "id": "af410229",
   "metadata": {},
   "outputs": [
    {
     "data": {
      "text/plain": [
       "(362.7609489051095, 0.7645985401459854)"
      ]
     },
     "execution_count": 339,
     "metadata": {},
     "output_type": "execute_result"
    }
   ],
   "source": [
    "i, score, model = all_metrics[16]\n",
    "utils.calc_metrics(utils.make_preds(test[1], model.predict(test_dataset)), id2session)"
   ]
  },
  {
   "cell_type": "code",
   "execution_count": null,
   "id": "6ad21d82",
   "metadata": {},
   "outputs": [],
   "source": []
  }
 ],
 "metadata": {
  "kernelspec": {
   "display_name": "Python 3",
   "language": "python",
   "name": "python3"
  },
  "language_info": {
   "codemirror_mode": {
    "name": "ipython",
    "version": 3
   },
   "file_extension": ".py",
   "mimetype": "text/x-python",
   "name": "python",
   "nbconvert_exporter": "python",
   "pygments_lexer": "ipython3",
   "version": "3.8.8"
  }
 },
 "nbformat": 4,
 "nbformat_minor": 5
}
